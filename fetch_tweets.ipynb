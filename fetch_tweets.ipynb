{
 "cells": [
  {
   "cell_type": "code",
   "execution_count": 40,
   "metadata": {
    "collapsed": false,
    "deletable": true,
    "editable": true
   },
   "outputs": [],
   "source": [
    "import ConfigParser\n",
    "import json\n",
    "\n",
    "from tweepy.streaming import StreamListener\n",
    "from tweepy import OAuthHandler\n",
    "from tweepy import Stream\n",
    "from tweepy import API"
   ]
  },
  {
   "cell_type": "code",
   "execution_count": 41,
   "metadata": {
    "collapsed": true,
    "deletable": true,
    "editable": true
   },
   "outputs": [],
   "source": [
    "config = ConfigParser.ConfigParser()\n",
    "config.read('.twitter')\n",
    "\n",
    "consumer_key = config.get('apikey', 'key')\n",
    "consumer_secret = config.get('apikey', 'secret')\n",
    "access_token = config.get('token', 'token')\n",
    "access_token_secret = config.get('token', 'secret')\n",
    "stream_rule = config.get('app', 'rule')\n",
    "account_screen_name = config.get('app', 'account_screen_name').lower() \n",
    "account_user_id = config.get('app', 'account_user_id')"
   ]
  },
  {
   "cell_type": "code",
   "execution_count": 42,
   "metadata": {
    "collapsed": false,
    "deletable": true,
    "editable": true,
    "scrolled": false
   },
   "outputs": [],
   "source": [
    "auth = OAuthHandler(consumer_key, consumer_secret)\n",
    "auth.set_access_token(access_token, access_token_secret)\n",
    "twitterApi = API(auth)\n",
    "#x=twitterApi.search(q=\"%23custserve\")"
   ]
  },
  {
   "cell_type": "code",
   "execution_count": 49,
   "metadata": {
    "collapsed": false
   },
   "outputs": [
    {
     "name": "stderr",
     "output_type": "stream",
     "text": [
      "/home/deepak_garg/.local/lib/python2.7/site-packages/requests/packages/urllib3/util/ssl_.py:132: InsecurePlatformWarning: A true SSLContext object is not available. This prevents urllib3 from configuring SSL appropriately and may cause certain SSL connections to fail. You can upgrade to a newer version of Python to solve this. For more information, see https://urllib3.readthedocs.io/en/latest/advanced-usage.html#ssl-warnings\n",
      "  InsecurePlatformWarning\n"
     ]
    },
    {
     "name": "stdout",
     "output_type": "stream",
     "text": [
      "RT @realresults101: Why businesses need to invest more in consumer apps. #Custserve https://t.co/jZZIiYZkn6\n",
      "Why businesses need to invest more in consumer apps. #Custserve https://t.co/jZZIiYZkn6\n",
      "RT @jamestownsend: What Every CEO Should Know About Customer Service and the Customer Experience via @TriciaEMorris #custserve  https://t.c…\n",
      "RT @CarolynBlunt: What’s the benchmark for a great customer experience? #Custserve? https://t.co/HKBrvvGuZ1\n",
      "What Every CEO Should Know About Customer Service and the Customer Experience via @TriciaEMorris #custserve  https://t.co/TRvSS3T5bq\n",
      "What’s the benchmark for a great customer experience? #Custserve? https://t.co/HKBrvvGuZ1\n",
      "6\n"
     ]
    }
   ],
   "source": [
    "query = '%23custserve'\n",
    "max_tweets = 10\n",
    "searched_tweets = []\n",
    "last_id = -1\n",
    "while len(searched_tweets) < max_tweets:\n",
    "    count = max_tweets - len(searched_tweets)\n",
    "    try:\n",
    "        new_tweets = twitterApi.search(q=query, count=count, max_id=str(last_id - 1))\n",
    "        if not new_tweets:\n",
    "            break\n",
    "        searched_tweets.extend(new_tweets)\n",
    "        last_id = new_tweets[-1].id\n",
    "        #print searched_tweets\n",
    "    except tweepy.TweepError as e:\n",
    "        # depending on TweepError.code, one may want to retry or wait\n",
    "        # to keep things simple, we will give up on an error\n",
    "        break\n",
    "\n",
    "mytweets=[]\n",
    "for tweet in searched_tweets:\n",
    "    if(tweet.retweet_count >0):\n",
    "        mytweets.append(tweet)\n",
    "        print tweet.text\n",
    "        \n",
    "print len(mytweets)"
   ]
  },
  {
   "cell_type": "code",
   "execution_count": 32,
   "metadata": {
    "collapsed": true,
    "deletable": true,
    "editable": true
   },
   "outputs": [],
   "source": [
    "class ReplyToTweet(StreamListener):\n",
    "\n",
    "    def on_data(self, data):\n",
    "        #print data\n",
    "        tweet = json.loads(data.strip())\n",
    "        #print tweet\n",
    "        retweeted = tweet.get('retweeted')\n",
    "        print retweeted\n",
    "        from_self = tweet.get('user',{}).get('id_str','') == account_user_id\n",
    "            \n",
    "    def on_error(self, status):\n",
    "        print status\n",
    "        \n",
    "    def on_status(self, status):\n",
    "        print(status.text)"
   ]
  },
  {
   "cell_type": "code",
   "execution_count": 50,
   "metadata": {
    "collapsed": false,
    "deletable": true,
    "editable": true
   },
   "outputs": [],
   "source": [
    "streamListener = ReplyToTweet()\n",
    "twitterStream = Stream(auth, streamListener)\n",
    "#twitterStream.userstream(_with='user')\n",
    "#twitterStream.filter(track=['python'])"
   ]
  },
  {
   "cell_type": "code",
   "execution_count": null,
   "metadata": {
    "collapsed": true,
    "deletable": true,
    "editable": true
   },
   "outputs": [],
   "source": []
  }
 ],
 "metadata": {
  "kernelspec": {
   "display_name": "Python 2",
   "language": "python",
   "name": "python2"
  },
  "language_info": {
   "codemirror_mode": {
    "name": "ipython",
    "version": 2
   },
   "file_extension": ".py",
   "mimetype": "text/x-python",
   "name": "python",
   "nbconvert_exporter": "python",
   "pygments_lexer": "ipython2",
   "version": "2.7.6"
  }
 },
 "nbformat": 4,
 "nbformat_minor": 2
}
