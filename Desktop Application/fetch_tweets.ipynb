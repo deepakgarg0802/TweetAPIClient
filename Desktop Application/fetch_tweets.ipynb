{
 "cells": [
  {
   "cell_type": "code",
   "execution_count": 2,
   "metadata": {
    "collapsed": false,
    "deletable": true,
    "editable": true
   },
   "outputs": [],
   "source": [
    "import ConfigParser\n",
    "import json\n",
    "\n",
    "from tweepy.streaming import StreamListener\n",
    "from tweepy import OAuthHandler\n",
    "from tweepy import Stream\n",
    "from tweepy import API"
   ]
  },
  {
   "cell_type": "code",
   "execution_count": 3,
   "metadata": {
    "collapsed": true,
    "deletable": true,
    "editable": true
   },
   "outputs": [],
   "source": [
    "config = ConfigParser.ConfigParser()\n",
    "config.read('.twitter')\n",
    "\n",
    "consumer_key = config.get('apikey', 'key')\n",
    "consumer_secret = config.get('apikey', 'secret')\n",
    "access_token = config.get('token', 'token')\n",
    "access_token_secret = config.get('token', 'secret')\n",
    "stream_rule = config.get('app', 'rule')\n",
    "account_screen_name = config.get('app', 'account_screen_name').lower() \n",
    "account_user_id = config.get('app', 'account_user_id')"
   ]
  },
  {
   "cell_type": "code",
   "execution_count": 4,
   "metadata": {
    "collapsed": false,
    "deletable": true,
    "editable": true,
    "scrolled": false
   },
   "outputs": [],
   "source": [
    "auth = OAuthHandler(consumer_key, consumer_secret)\n",
    "auth.set_access_token(access_token, access_token_secret)\n",
    "twitterApi = API(auth)\n",
    "#x=twitterApi.search(q=\"%23custserve\")"
   ]
  },
  {
   "cell_type": "code",
   "execution_count": 8,
   "metadata": {
    "collapsed": false,
    "deletable": true,
    "editable": true
   },
   "outputs": [
    {
     "name": "stderr",
     "output_type": "stream",
     "text": [
      "/home/deepak_garg/.local/lib/python2.7/site-packages/requests/packages/urllib3/util/ssl_.py:132: InsecurePlatformWarning: A true SSLContext object is not available. This prevents urllib3 from configuring SSL appropriately and may cause certain SSL connections to fail. You can upgrade to a newer version of Python to solve this. For more information, see https://urllib3.readthedocs.io/en/latest/advanced-usage.html#ssl-warnings\n",
      "  InsecurePlatformWarning\n",
      "/home/deepak_garg/.local/lib/python2.7/site-packages/requests/packages/urllib3/util/ssl_.py:132: InsecurePlatformWarning: A true SSLContext object is not available. This prevents urllib3 from configuring SSL appropriately and may cause certain SSL connections to fail. You can upgrade to a newer version of Python to solve this. For more information, see https://urllib3.readthedocs.io/en/latest/advanced-usage.html#ssl-warnings\n",
      "  InsecurePlatformWarning\n"
     ]
    },
    {
     "name": "stdout",
     "output_type": "stream",
     "text": [
      "cookie33uk : 835448511739084801\n",
      "CarolynBlunt : 835448062675935232\n",
      "emberservices : 834675930413031424\n",
      "realresults101 : 834654108380454912\n",
      "Fabrice_Briatte : 834597338832216065\n",
      "emberservices : 834425358313222144\n",
      "jamestownsend : 834411954638880768\n",
      "CarolynBlunt : 834329432236097536\n",
      "wambipaul : 833688048760127489\n",
      "realemailmkting : 833274833307893761\n",
      "CarolynBlunt : 833228487179849729\n",
      "JamesMills120 : 833019997697998848\n",
      "DanKielyVoxpro : 832904436200701954\n",
      "custservstory : 832865123962388480\n",
      "IWantItNowblog : 832864230869258240\n",
      "CurationSuite : 832846701404774401\n",
      "jamestownsend : 832816913155764225\n",
      "emberservices : 832158613661708288\n",
      "realresults101 : 832118616246063105\n",
      "[u'835448511739084801', u'835448062675935232', u'834675930413031424', u'834654108380454912', u'834597338832216065', u'834425358313222144', u'834411954638880768', u'834329432236097536', u'833688048760127489', u'833274833307893761', u'833228487179849729', u'833019997697998848', u'832904436200701954', u'832865123962388480', u'832864230869258240', u'832846701404774401', u'832816913155764225', u'832158613661708288', u'832118616246063105']\n"
     ]
    }
   ],
   "source": [
    "query = '%23custserve'\n",
    "max_tweets = 100\n",
    "searched_tweets = []\n",
    "last_id = -1\n",
    "while len(searched_tweets) < max_tweets:\n",
    "    count = max_tweets - len(searched_tweets)\n",
    "    try:\n",
    "        new_tweets = twitterApi.search(q=query, count=count, max_id=str(last_id - 1))\n",
    "        if not new_tweets:\n",
    "            break\n",
    "        searched_tweets.extend(new_tweets)\n",
    "        last_id = new_tweets[-1].id\n",
    "        #print searched_tweets\n",
    "    except tweepy.TweepError as e:\n",
    "        # depending on TweepError.code, one may want to retry or wait\n",
    "        # to keep things simple, we will give up on an error\n",
    "        break\n",
    "\n",
    "mytweets=[]\n",
    "for tweet in searched_tweets:\n",
    "    if(tweet.retweet_count >0):\n",
    "        mytweets.append(tweet.id_str)\n",
    "        print tweet.user.screen_name+ \" : \"+ tweet.id_str\n",
    "        \n",
    "print mytweets"
   ]
  },
  {
   "cell_type": "code",
   "execution_count": 32,
   "metadata": {
    "collapsed": true,
    "deletable": true,
    "editable": true
   },
   "outputs": [],
   "source": [
    "class ReplyToTweet(StreamListener):\n",
    "\n",
    "    def on_data(self, data):\n",
    "        #print data\n",
    "        tweet = json.loads(data.strip())\n",
    "        #print tweet\n",
    "        retweeted = tweet.get('retweeted')\n",
    "        print retweeted\n",
    "        from_self = tweet.get('user',{}).get('id_str','') == account_user_id\n",
    "            \n",
    "    def on_error(self, status):\n",
    "        print status\n",
    "        \n",
    "    def on_status(self, status):\n",
    "        print(status.text)"
   ]
  },
  {
   "cell_type": "code",
   "execution_count": 50,
   "metadata": {
    "collapsed": false,
    "deletable": true,
    "editable": true
   },
   "outputs": [],
   "source": [
    "streamListener = ReplyToTweet()\n",
    "twitterStream = Stream(auth, streamListener)\n",
    "#twitterStream.userstream(_with='user')\n",
    "#twitterStream.filter(track=['python'])"
   ]
  },
  {
   "cell_type": "code",
   "execution_count": 7,
   "metadata": {
    "collapsed": true,
    "deletable": true,
    "editable": true
   },
   "outputs": [],
   "source": [
    "import Tkinter"
   ]
  },
  {
   "cell_type": "code",
   "execution_count": 37,
   "metadata": {
    "collapsed": false,
    "deletable": true,
    "editable": true
   },
   "outputs": [
    {
     "name": "stdout",
     "output_type": "stream",
     "text": [
      "hi\n",
      "hi\n"
     ]
    }
   ],
   "source": [
    "class MyFirstGUI:\n",
    "    \n",
    "    tweets=[]\n",
    "    \n",
    "    def __init__(self, master):\n",
    "        self.master = master\n",
    "        master.title(\"Fetch my tweets\")\n",
    "        \n",
    "        self.greet_button = Button(master, text=\"Refresh\", command=self.greet)\n",
    "        self.greet_button.pack()\n",
    "        \n",
    "        scrollbar = Scrollbar(master)\n",
    "        scrollbar.pack(side=RIGHT, fill=Y)\n",
    "\n",
    "        listbox = Listbox(master, yscrollcommand=scrollbar.set)\n",
    "        for i in range(1000):\n",
    "            listbox.insert(END, str(i))\n",
    "        listbox.pack(expand=YES,fill=BOTH)\n",
    "        listbox.bind('<Double-1>', self.clickme)\n",
    "        scrollbar.config(command=listbox.yview)\n",
    "        \n",
    "    def clickme(self,event):\n",
    "        print \"hi\"\n",
    "\n",
    "    def greet(self):\n",
    "        print(\"Greetings!\")\n",
    "\n",
    "root = Tk()\n",
    "my_gui = MyFirstGUI(root)\n",
    "root.mainloop()"
   ]
  },
  {
   "cell_type": "code",
   "execution_count": null,
   "metadata": {
    "collapsed": true,
    "deletable": true,
    "editable": true
   },
   "outputs": [],
   "source": []
  }
 ],
 "metadata": {
  "kernelspec": {
   "display_name": "Python 2",
   "language": "python",
   "name": "python2"
  },
  "language_info": {
   "codemirror_mode": {
    "name": "ipython",
    "version": 2
   },
   "file_extension": ".py",
   "mimetype": "text/x-python",
   "name": "python",
   "nbconvert_exporter": "python",
   "pygments_lexer": "ipython2",
   "version": "2.7.6"
  }
 },
 "nbformat": 4,
 "nbformat_minor": 2
}
